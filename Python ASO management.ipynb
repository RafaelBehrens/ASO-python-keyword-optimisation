{
 "cells": [
  {
   "cell_type": "code",
   "execution_count": 76,
   "metadata": {},
   "outputs": [],
   "source": [
    "import pandas as pd\n",
    "import numpy as np\n",
    "import re"
   ]
  },
  {
   "cell_type": "code",
   "execution_count": 77,
   "metadata": {},
   "outputs": [],
   "source": [
    "# import file\n",
    "file = pd.read_csv('format.csv', header=None)"
   ]
  },
  {
   "cell_type": "code",
   "execution_count": 79,
   "metadata": {},
   "outputs": [],
   "source": [
    "# function for removing special characters from string\n",
    "def preprocess(string):\n",
    "    string = re.sub('\\W+',' ', string)\n",
    "    return string"
   ]
  },
  {
   "cell_type": "code",
   "execution_count": 211,
   "metadata": {},
   "outputs": [],
   "source": [
    "# create variables\n",
    "platform = preprocess(file.iloc[0,1])\n",
    "previoustitle = preprocess(file.iloc[1,1])\n",
    "previoussub = preprocess(file.iloc[2,1])\n",
    "newtitle = preprocess(file.iloc[3,1])\n",
    "newsub = preprocess(file.iloc[4,1])\n",
    "listandranks = file.iloc[7:1000,0:3]\n",
    "previousranks = file.iloc[7:1000,1]\n",
    "newranks = file.iloc[7:1000,2]"
   ]
  },
  {
   "cell_type": "code",
   "execution_count": 212,
   "metadata": {},
   "outputs": [],
   "source": [
    "# concatenate previous and new titles and make to lower case\n",
    "previous = np.concatenate((previoustitle.split(), previoussub.split()))\n",
    "previous = [x.lower() for x in previous]\n",
    "new = np.concatenate((newtitle.split(), newsub.split()))\n",
    "new = [x.lower() for x in new]"
   ]
  },
  {
   "cell_type": "code",
   "execution_count": 213,
   "metadata": {},
   "outputs": [],
   "source": [
    "# make list of keywords removed and keywords added\n",
    "keywordsremoved = list(set(previous) - set(new))\n",
    "keywordsadded = list(set(new) - set(previous))"
   ]
  },
  {
   "cell_type": "code",
   "execution_count": 215,
   "metadata": {},
   "outputs": [],
   "source": [
    "# iterate through keyword lists, check what the change in rank has been for the ranks of targets KWs containing that list & append to DF\n",
    "avgdif = pd.DataFrame(columns = ['Keyword', 'Average Difference'])\n",
    "for i in keywordsadded:\n",
    "    compare = listandranks[listandranks[0].str.contains(i)]\n",
    "    if not compare.empty:\n",
    "        compare = compare.fillna(0)\n",
    "        compare = compare[(compare[[1,2]] != 0).all(axis=1)]\n",
    "        compare = compare.astype(dtype={1:'int', 2:'int'}, copy=True, errors='raise')\n",
    "        compare['Difference'] = compare.iloc[:,1] - compare.iloc[:,2]\n",
    "        mean = compare['Difference' !=0].mean().astype(int)\n",
    "        avgdif = avgdif.append([{'Keyword': i, 'Average Difference': mean}])\n",
    "\n",
    "avgdec = pd.DataFrame(columns = ['Keyword', 'Average Difference'])\n",
    "\n",
    "for i in keywordsremoved:\n",
    "    compare = listandranks[listandranks[0].str.contains(i)]\n",
    "    if not compare.empty:\n",
    "        compare = compare.fillna(0)\n",
    "        compare = compare[(compare[[1,2]] != 0).all(axis=1)]\n",
    "        compare = compare.astype(dtype={1:'int', 2:'int'}, copy=True, errors='raise')\n",
    "        compare['Difference'] = compare.iloc[:,1] - compare.iloc[:,2]\n",
    "        mean = compare['Difference'!=0].mean().astype(int)\n",
    "        avgdec = avgdec.append([{'Keyword': i, 'Average Difference': mean}])"
   ]
  },
  {
   "cell_type": "code",
   "execution_count": 221,
   "metadata": {},
   "outputs": [
    {
     "name": "stdout",
     "output_type": "stream",
     "text": [
      "    Keyword Average Difference\n",
      "0    marine                 45\n",
      "0  download                  6\n",
      "0   boating                 64\n",
      "0   sailing                103\n",
      "0       and                 42\n",
      "0      free                 13\n"
     ]
    }
   ],
   "source": [
    "# combine keywords added + removed \n",
    "final = pd.concat([avgdif, avgdec])\n",
    "final.reset_index(drop=True)\n",
    "\n",
    "print(final)"
   ]
  },
  {
   "cell_type": "code",
   "execution_count": 224,
   "metadata": {},
   "outputs": [],
   "source": [
    "# send to CSV\n",
    "final.to_csv('output.csv')"
   ]
  }
 ],
 "metadata": {
  "kernelspec": {
   "display_name": "Python 3",
   "language": "python",
   "name": "python3"
  },
  "language_info": {
   "codemirror_mode": {
    "name": "ipython",
    "version": 3
   },
   "file_extension": ".py",
   "mimetype": "text/x-python",
   "name": "python",
   "nbconvert_exporter": "python",
   "pygments_lexer": "ipython3",
   "version": "3.7.0"
  }
 },
 "nbformat": 4,
 "nbformat_minor": 2
}
